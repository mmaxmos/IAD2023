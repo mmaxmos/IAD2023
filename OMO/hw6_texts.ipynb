{
 "cells": [
  {
   "cell_type": "markdown",
   "metadata": {
    "id": "Ffq6A2-ifzAA"
   },
   "source": [
    "# Интеллектуальный анализ данных – весна 2024\n",
    "# Домашнее задание 6: классификация текстов"
   ]
  },
  {
   "cell_type": "markdown",
   "metadata": {},
   "source": [
    "### Мосалев Максим ИАД-7"
   ]
  },
  {
   "cell_type": "markdown",
   "metadata": {
    "id": "EPcxtekTA1Sm"
   },
   "source": [
    "Правила:\n",
    "\n",
    "\n",
    "\n",
    "*   Домашнее задание оценивается в 10 баллов.\n",
    "*   Можно использовать без доказательства любые результаты, встречавшиеся на лекциях или семинарах по курсу, если получение этих результатов не является вопросом задания.\n",
    "*  Можно использовать любые свободные источники с *обязательным* указанием ссылки на них.\n",
    "*  Плагиат не допускается. При обнаружении случаев списывания, 0 за работу выставляется всем участникам нарушения, даже если можно установить, кто у кого списал.\n",
    "*  Старайтесь сделать код как можно более оптимальным. В частности, будет штрафоваться использование циклов в тех случаях, когда операцию можно совершить при помощи инструментов библиотек, о которых рассказывалось в курсе."
   ]
  },
  {
   "cell_type": "markdown",
   "metadata": {
    "id": "itRtFtrOf0_b"
   },
   "source": [
    "В этом домашнем задании вам предстоит построить классификатор текстов.\n",
    "\n",
    "Будем предсказывать эмоциональную окраску твиттов о коронавирусе.\n",
    "\n"
   ]
  },
  {
   "cell_type": "code",
   "execution_count": 84,
   "metadata": {
    "id": "tNGRVO7_g9mz"
   },
   "outputs": [],
   "source": [
    "import numpy as np\n",
    "import pandas as pd\n",
    "from typing import  List\n",
    "import matplotlib.pyplot as plt\n",
    "import seaborn as sns\n",
    "from string import punctuation"
   ]
  },
  {
   "cell_type": "code",
   "execution_count": 86,
   "metadata": {
    "colab": {
     "base_uri": "https://localhost:8080/",
     "height": 174
    },
    "id": "zOy8iHJQg_Ss",
    "outputId": "01951c93-1976-4fd2-b432-f9ec217dbd17"
   },
   "outputs": [
    {
     "data": {
      "text/html": [
       "<div>\n",
       "<style scoped>\n",
       "    .dataframe tbody tr th:only-of-type {\n",
       "        vertical-align: middle;\n",
       "    }\n",
       "\n",
       "    .dataframe tbody tr th {\n",
       "        vertical-align: top;\n",
       "    }\n",
       "\n",
       "    .dataframe thead th {\n",
       "        text-align: right;\n",
       "    }\n",
       "</style>\n",
       "<table border=\"1\" class=\"dataframe\">\n",
       "  <thead>\n",
       "    <tr style=\"text-align: right;\">\n",
       "      <th></th>\n",
       "      <th>UserName</th>\n",
       "      <th>ScreenName</th>\n",
       "      <th>Location</th>\n",
       "      <th>TweetAt</th>\n",
       "      <th>OriginalTweet</th>\n",
       "      <th>Sentiment</th>\n",
       "    </tr>\n",
       "  </thead>\n",
       "  <tbody>\n",
       "    <tr>\n",
       "      <th>7847</th>\n",
       "      <td>13335</td>\n",
       "      <td>58287</td>\n",
       "      <td>NaN</td>\n",
       "      <td>20-03-2020</td>\n",
       "      <td>Why and I cannot stress this enough the ACTUAL...</td>\n",
       "      <td>Positive</td>\n",
       "    </tr>\n",
       "    <tr>\n",
       "      <th>32198</th>\n",
       "      <td>43404</td>\n",
       "      <td>88356</td>\n",
       "      <td>London/Birmingham</td>\n",
       "      <td>13-04-2020</td>\n",
       "      <td>When thereÃÂs no queue at the supermarket an...</td>\n",
       "      <td>Negative</td>\n",
       "    </tr>\n",
       "    <tr>\n",
       "      <th>8736</th>\n",
       "      <td>14413</td>\n",
       "      <td>59365</td>\n",
       "      <td>Manchester, UK</td>\n",
       "      <td>20-03-2020</td>\n",
       "      <td>$USDCAD experienced a sharp decline from yeste...</td>\n",
       "      <td>Positive</td>\n",
       "    </tr>\n",
       "    <tr>\n",
       "      <th>18678</th>\n",
       "      <td>26539</td>\n",
       "      <td>71491</td>\n",
       "      <td>Nairobi, Kenya</td>\n",
       "      <td>25-03-2020</td>\n",
       "      <td>President Yoweri Museveni warns that crooks wh...</td>\n",
       "      <td>Negative</td>\n",
       "    </tr>\n",
       "  </tbody>\n",
       "</table>\n",
       "</div>"
      ],
      "text/plain": [
       "       UserName  ScreenName           Location     TweetAt  \\\n",
       "7847      13335       58287                NaN  20-03-2020   \n",
       "32198     43404       88356  London/Birmingham  13-04-2020   \n",
       "8736      14413       59365     Manchester, UK  20-03-2020   \n",
       "18678     26539       71491     Nairobi, Kenya  25-03-2020   \n",
       "\n",
       "                                           OriginalTweet Sentiment  \n",
       "7847   Why and I cannot stress this enough the ACTUAL...  Positive  \n",
       "32198  When thereÃÂs no queue at the supermarket an...  Negative  \n",
       "8736   $USDCAD experienced a sharp decline from yeste...  Positive  \n",
       "18678  President Yoweri Museveni warns that crooks wh...  Negative  "
      ]
     },
     "execution_count": 86,
     "metadata": {},
     "output_type": "execute_result"
    }
   ],
   "source": [
    "df = pd.read_csv('https://raw.githubusercontent.com/hse-ds/iad-intro-ds/master/2024/homeworks/hw06_texts/tweets_coronavirus.csv', encoding='latin-1')\n",
    "df.sample(4)"
   ]
  },
  {
   "cell_type": "markdown",
   "metadata": {
    "id": "m2OiDog9ZBlS"
   },
   "source": [
    "Для каждого твитта указано:\n",
    "\n",
    "\n",
    "*   UserName - имя пользователя, заменено на целое число для анонимности\n",
    "*   ScreenName - отображающееся имя пользователя, заменено на целое число для анонимности\n",
    "*   Location - местоположение\n",
    "*   TweetAt - дата создания твитта\n",
    "*   OriginalTweet - текст твитта\n",
    "*   Sentiment - эмоциональная окраска твитта (целевая переменная)\n",
    "\n"
   ]
  },
  {
   "cell_type": "markdown",
   "metadata": {
    "id": "pZTMseDkhTC7"
   },
   "source": [
    "## Задание 1 Подготовка (0.5 балла)"
   ]
  },
  {
   "cell_type": "markdown",
   "metadata": {
    "id": "Xx2-odn9hdAW"
   },
   "source": [
    "Целевая переменная находится в колонке `Sentiment`.  Преобразуйте ее таким образом, чтобы она стала бинарной: 1 - если у твитта положительная эмоциональная окраска и 0 - если отрицательная."
   ]
  },
  {
   "cell_type": "code",
   "execution_count": 87,
   "metadata": {
    "id": "ZaQKQ1zEjP15"
   },
   "outputs": [
    {
     "data": {
      "text/plain": [
       "array(['Positive', 'Extremely Negative', 'Negative', 'Extremely Positive'],\n",
       "      dtype=object)"
      ]
     },
     "execution_count": 87,
     "metadata": {},
     "output_type": "execute_result"
    }
   ],
   "source": [
    "df['Sentiment'].unique()"
   ]
  },
  {
   "cell_type": "code",
   "execution_count": 88,
   "metadata": {},
   "outputs": [],
   "source": [
    "df['Sentiment'] = df['Sentiment'].map({'Extremely Positive': 1, 'Positive': 1, 'Negative': 0, 'Extremely Negative': 0})"
   ]
  },
  {
   "cell_type": "code",
   "execution_count": 89,
   "metadata": {},
   "outputs": [
    {
     "data": {
      "text/html": [
       "<div>\n",
       "<style scoped>\n",
       "    .dataframe tbody tr th:only-of-type {\n",
       "        vertical-align: middle;\n",
       "    }\n",
       "\n",
       "    .dataframe tbody tr th {\n",
       "        vertical-align: top;\n",
       "    }\n",
       "\n",
       "    .dataframe thead th {\n",
       "        text-align: right;\n",
       "    }\n",
       "</style>\n",
       "<table border=\"1\" class=\"dataframe\">\n",
       "  <thead>\n",
       "    <tr style=\"text-align: right;\">\n",
       "      <th></th>\n",
       "      <th>UserName</th>\n",
       "      <th>ScreenName</th>\n",
       "      <th>Location</th>\n",
       "      <th>TweetAt</th>\n",
       "      <th>OriginalTweet</th>\n",
       "      <th>Sentiment</th>\n",
       "    </tr>\n",
       "  </thead>\n",
       "  <tbody>\n",
       "    <tr>\n",
       "      <th>3416</th>\n",
       "      <td>7946</td>\n",
       "      <td>52898</td>\n",
       "      <td>West Yorkshire</td>\n",
       "      <td>18-03-2020</td>\n",
       "      <td>So self isolating for 14 days going to need fo...</td>\n",
       "      <td>0</td>\n",
       "    </tr>\n",
       "    <tr>\n",
       "      <th>25839</th>\n",
       "      <td>35445</td>\n",
       "      <td>80397</td>\n",
       "      <td>????</td>\n",
       "      <td>07-04-2020</td>\n",
       "      <td>Here s how CBS star and her team at Blinking O...</td>\n",
       "      <td>1</td>\n",
       "    </tr>\n",
       "    <tr>\n",
       "      <th>23592</th>\n",
       "      <td>32615</td>\n",
       "      <td>77567</td>\n",
       "      <td>Montgomery, Alabama</td>\n",
       "      <td>05-04-2020</td>\n",
       "      <td>Do you remember the toilet paper shortage of 1...</td>\n",
       "      <td>0</td>\n",
       "    </tr>\n",
       "    <tr>\n",
       "      <th>4326</th>\n",
       "      <td>9059</td>\n",
       "      <td>54011</td>\n",
       "      <td>NaN</td>\n",
       "      <td>18-03-2020</td>\n",
       "      <td>Gold Prices Suffer As Severe Sell Off Hits The...</td>\n",
       "      <td>0</td>\n",
       "    </tr>\n",
       "    <tr>\n",
       "      <th>33422</th>\n",
       "      <td>44925</td>\n",
       "      <td>89877</td>\n",
       "      <td>Kentucky, USA</td>\n",
       "      <td>14-04-2020</td>\n",
       "      <td>Toilet paper and sanitizer are almost nonexist...</td>\n",
       "      <td>1</td>\n",
       "    </tr>\n",
       "  </tbody>\n",
       "</table>\n",
       "</div>"
      ],
      "text/plain": [
       "       UserName  ScreenName             Location     TweetAt  \\\n",
       "3416       7946       52898       West Yorkshire  18-03-2020   \n",
       "25839     35445       80397                 ????  07-04-2020   \n",
       "23592     32615       77567  Montgomery, Alabama  05-04-2020   \n",
       "4326       9059       54011                  NaN  18-03-2020   \n",
       "33422     44925       89877        Kentucky, USA  14-04-2020   \n",
       "\n",
       "                                           OriginalTweet  Sentiment  \n",
       "3416   So self isolating for 14 days going to need fo...          0  \n",
       "25839  Here s how CBS star and her team at Blinking O...          1  \n",
       "23592  Do you remember the toilet paper shortage of 1...          0  \n",
       "4326   Gold Prices Suffer As Severe Sell Off Hits The...          0  \n",
       "33422  Toilet paper and sanitizer are almost nonexist...          1  "
      ]
     },
     "execution_count": 89,
     "metadata": {},
     "output_type": "execute_result"
    }
   ],
   "source": [
    "df.sample(5)"
   ]
  },
  {
   "cell_type": "markdown",
   "metadata": {
    "id": "pGq1FxJ-kBo5"
   },
   "source": [
    "Сбалансированы ли классы?"
   ]
  },
  {
   "cell_type": "code",
   "execution_count": 90,
   "metadata": {
    "id": "a7gdNtxckK5V"
   },
   "outputs": [
    {
     "data": {
      "text/plain": [
       "1    18046\n",
       "0    15398\n",
       "Name: Sentiment, dtype: int64"
      ]
     },
     "execution_count": 90,
     "metadata": {},
     "output_type": "execute_result"
    }
   ],
   "source": [
    "df['Sentiment'].value_counts()"
   ]
  },
  {
   "cell_type": "markdown",
   "metadata": {
    "id": "Ng8BCelMkWb0"
   },
   "source": [
    "**Ответ:** Количество класса позитивных твитов немного превышет класс негативных, но только на 15%, поэтому можно сказать, что классы сбалансированы. "
   ]
  },
  {
   "cell_type": "markdown",
   "metadata": {
    "id": "qmSIBSsLk5Zz"
   },
   "source": [
    "Выведете на экран информацию о пропусках в данных. Если пропуски присутствуют заполните их строкой 'Unknown'."
   ]
  },
  {
   "cell_type": "code",
   "execution_count": 91,
   "metadata": {
    "id": "UhUVRkR5kxa7"
   },
   "outputs": [
    {
     "data": {
      "text/plain": [
       "UserName            0\n",
       "ScreenName          0\n",
       "Location         7049\n",
       "TweetAt             0\n",
       "OriginalTweet       0\n",
       "Sentiment           0\n",
       "dtype: int64"
      ]
     },
     "execution_count": 91,
     "metadata": {},
     "output_type": "execute_result"
    }
   ],
   "source": [
    "df.isnull().sum()"
   ]
  },
  {
   "cell_type": "code",
   "execution_count": 92,
   "metadata": {},
   "outputs": [],
   "source": [
    "df.fillna('Unknown', inplace=True)"
   ]
  },
  {
   "cell_type": "code",
   "execution_count": 94,
   "metadata": {},
   "outputs": [
    {
     "data": {
      "text/html": [
       "<div>\n",
       "<style scoped>\n",
       "    .dataframe tbody tr th:only-of-type {\n",
       "        vertical-align: middle;\n",
       "    }\n",
       "\n",
       "    .dataframe tbody tr th {\n",
       "        vertical-align: top;\n",
       "    }\n",
       "\n",
       "    .dataframe thead th {\n",
       "        text-align: right;\n",
       "    }\n",
       "</style>\n",
       "<table border=\"1\" class=\"dataframe\">\n",
       "  <thead>\n",
       "    <tr style=\"text-align: right;\">\n",
       "      <th></th>\n",
       "      <th>UserName</th>\n",
       "      <th>ScreenName</th>\n",
       "      <th>Location</th>\n",
       "      <th>TweetAt</th>\n",
       "      <th>OriginalTweet</th>\n",
       "      <th>Sentiment</th>\n",
       "    </tr>\n",
       "  </thead>\n",
       "  <tbody>\n",
       "    <tr>\n",
       "      <th>17640</th>\n",
       "      <td>25251</td>\n",
       "      <td>70203</td>\n",
       "      <td>Minnesota, USA</td>\n",
       "      <td>25-03-2020</td>\n",
       "      <td>The Plague Cometh We are Waiting Covid 19 It s...</td>\n",
       "      <td>0</td>\n",
       "    </tr>\n",
       "    <tr>\n",
       "      <th>6636</th>\n",
       "      <td>11862</td>\n",
       "      <td>56814</td>\n",
       "      <td>Birmingham UK</td>\n",
       "      <td>19-03-2020</td>\n",
       "      <td>More people are going to die of starvation tha...</td>\n",
       "      <td>0</td>\n",
       "    </tr>\n",
       "    <tr>\n",
       "      <th>27165</th>\n",
       "      <td>37110</td>\n",
       "      <td>82062</td>\n",
       "      <td>Unknown</td>\n",
       "      <td>07-04-2020</td>\n",
       "      <td>@judgeyourself99 @itsJeffTiedrich @realDonaldT...</td>\n",
       "      <td>0</td>\n",
       "    </tr>\n",
       "    <tr>\n",
       "      <th>19474</th>\n",
       "      <td>27508</td>\n",
       "      <td>72460</td>\n",
       "      <td>Sacramento</td>\n",
       "      <td>26-03-2020</td>\n",
       "      <td>?Calling all Californians?\\r\\r\\n\\r\\r\\nFood ban...</td>\n",
       "      <td>0</td>\n",
       "    </tr>\n",
       "    <tr>\n",
       "      <th>11095</th>\n",
       "      <td>17266</td>\n",
       "      <td>62218</td>\n",
       "      <td>Toronto, Ontario</td>\n",
       "      <td>21-03-2020</td>\n",
       "      <td>@fordnation @Carolyn_Bennett We need a total s...</td>\n",
       "      <td>0</td>\n",
       "    </tr>\n",
       "    <tr>\n",
       "      <th>4688</th>\n",
       "      <td>9495</td>\n",
       "      <td>54447</td>\n",
       "      <td>Unknown</td>\n",
       "      <td>19-03-2020</td>\n",
       "      <td>NEW: All @ATT consumer home internet wireline ...</td>\n",
       "      <td>1</td>\n",
       "    </tr>\n",
       "  </tbody>\n",
       "</table>\n",
       "</div>"
      ],
      "text/plain": [
       "       UserName  ScreenName          Location     TweetAt  \\\n",
       "17640     25251       70203    Minnesota, USA  25-03-2020   \n",
       "6636      11862       56814     Birmingham UK  19-03-2020   \n",
       "27165     37110       82062           Unknown  07-04-2020   \n",
       "19474     27508       72460        Sacramento  26-03-2020   \n",
       "11095     17266       62218  Toronto, Ontario  21-03-2020   \n",
       "4688       9495       54447           Unknown  19-03-2020   \n",
       "\n",
       "                                           OriginalTweet  Sentiment  \n",
       "17640  The Plague Cometh We are Waiting Covid 19 It s...          0  \n",
       "6636   More people are going to die of starvation tha...          0  \n",
       "27165  @judgeyourself99 @itsJeffTiedrich @realDonaldT...          0  \n",
       "19474  ?Calling all Californians?\\r\\r\\n\\r\\r\\nFood ban...          0  \n",
       "11095  @fordnation @Carolyn_Bennett We need a total s...          0  \n",
       "4688   NEW: All @ATT consumer home internet wireline ...          1  "
      ]
     },
     "execution_count": 94,
     "metadata": {},
     "output_type": "execute_result"
    }
   ],
   "source": [
    "df.sample(6)"
   ]
  },
  {
   "cell_type": "markdown",
   "metadata": {
    "id": "1tzt27tfjUpq"
   },
   "source": [
    "Разделите данные на обучающие и тестовые в соотношении 7 : 3 и `random_state=0`"
   ]
  },
  {
   "cell_type": "code",
   "execution_count": 95,
   "metadata": {
    "id": "xSLOA9tIj9Z6"
   },
   "outputs": [],
   "source": [
    "from sklearn.model_selection import train_test_split\n",
    "\n",
    "train, test = train_test_split(df, test_size=0.3, random_state=0)"
   ]
  },
  {
   "cell_type": "markdown",
   "metadata": {
    "id": "J9RrPUsJlL60"
   },
   "source": [
    "## Задание 2 Токенизация (3 балла)"
   ]
  },
  {
   "cell_type": "markdown",
   "metadata": {
    "id": "2Dz_b7Xopc_R"
   },
   "source": [
    "Постройте словарь на основе обучающей выборки и посчитайте количество встреч каждого токена с использованием самой простой токенизации - деления текстов по пробельным символам и приведение токенов в нижний регистр"
   ]
  },
  {
   "cell_type": "code",
   "execution_count": 96,
   "metadata": {
    "id": "SFr67WOJphny"
   },
   "outputs": [],
   "source": [
    "token_counts = {}\n",
    "\n",
    "# Простая токенизация и подсчет встреч токенов\n",
    "for text in train['OriginalTweet']:\n",
    "    tokens = text.lower().split()  # Приведение к нижнему регистру и разделение по пробельным символам\n",
    "    for token in tokens:\n",
    "        if token in token_counts:\n",
    "            token_counts[token] += 1\n",
    "        else:\n",
    "            token_counts[token] = 1"
   ]
  },
  {
   "cell_type": "markdown",
   "metadata": {
    "id": "Pe0h2Jqkpnao"
   },
   "source": [
    "Какой размер словаря получился?"
   ]
  },
  {
   "cell_type": "code",
   "execution_count": 97,
   "metadata": {
    "id": "umyENA7EpokD"
   },
   "outputs": [
    {
     "data": {
      "text/plain": [
       "79755"
      ]
     },
     "execution_count": 97,
     "metadata": {},
     "output_type": "execute_result"
    }
   ],
   "source": [
    "len(token_counts)"
   ]
  },
  {
   "cell_type": "markdown",
   "metadata": {
    "id": "0d2G1Z-Qpqkd"
   },
   "source": [
    "Выведите 10 самых популярных токенов с количеством встреч каждого из них. Объясните, почему именно эти токены в топе"
   ]
  },
  {
   "cell_type": "code",
   "execution_count": 98,
   "metadata": {
    "id": "Impi32a_pssg"
   },
   "outputs": [
    {
     "name": "stdout",
     "output_type": "stream",
     "text": [
      "10 самых популярных токенов:\n",
      "the: 26815\n",
      "to: 23373\n",
      "and: 14684\n",
      "of: 13012\n",
      "a: 11737\n",
      "in: 11198\n",
      "for: 8566\n",
      "#coronavirus: 8223\n",
      "is: 7383\n",
      "are: 7050\n"
     ]
    }
   ],
   "source": [
    "sorted_tokens = sorted(token_counts.items(), key=lambda x: x[1], reverse=True)\n",
    "\n",
    "# Вывод 10 самых популярных токенов\n",
    "print(\"10 самых популярных токенов:\")\n",
    "for token, count in sorted_tokens[:10]:\n",
    "    print(f\"{token}: {count}\")"
   ]
  },
  {
   "cell_type": "markdown",
   "metadata": {
    "id": "ZtuJCD0ApuFd"
   },
   "source": [
    "**Ответ:** Именно эти токены в топе, потому что это так называемые стоп-слова - предлоги, частицы, междометия, которые часто используются в речи, но не несут большой смысловой нагрузки."
   ]
  },
  {
   "cell_type": "markdown",
   "metadata": {
    "id": "T7DTQDkWsVYp"
   },
   "source": [
    "Удалите стоп-слова из словаря и выведите новый топ-10 токенов (и количество встреч) по популярности.  Что можно сказать  о нем?"
   ]
  },
  {
   "cell_type": "code",
   "execution_count": 99,
   "metadata": {
    "id": "8csSAdgTsnFx",
    "scrolled": true
   },
   "outputs": [
    {
     "name": "stdout",
     "output_type": "stream",
     "text": [
      "Топ-10 токенов после удаления стоп-слов:\n",
      "#coronavirus: 8223\n",
      "prices: 3891\n",
      "food: 3820\n",
      "grocery: 3469\n",
      "supermarket: 3288\n",
      "people: 3175\n",
      "covid-19: 3173\n",
      "store: 3155\n",
      "#covid19: 2471\n",
      "&amp;: 2314\n"
     ]
    },
    {
     "name": "stderr",
     "output_type": "stream",
     "text": [
      "[nltk_data] Downloading package stopwords to\n",
      "[nltk_data]     C:\\Users\\79061\\AppData\\Roaming\\nltk_data...\n",
      "[nltk_data]   Package stopwords is already up-to-date!\n"
     ]
    }
   ],
   "source": [
    "import nltk\n",
    "from nltk.corpus import stopwords\n",
    "\n",
    "nltk.download('stopwords')\n",
    "stop_words = set(stopwords.words('english'))\n",
    "\n",
    "# Удаление стоп-слов из словаря\n",
    "filtered_token_counts = {token: count for token, count in token_counts.items() if token not in stop_words}\n",
    "\n",
    "sorted_filtered_tokens = sorted(filtered_token_counts.items(), key=lambda x: x[1], reverse=True)\n",
    "\n",
    "# Вывод новых топ-10 токенов\n",
    "print(\"Топ-10 токенов после удаления стоп-слов:\")\n",
    "for token, count in sorted_filtered_tokens[:10]:\n",
    "    print(f\"{token}: {count}\")"
   ]
  },
  {
   "cell_type": "markdown",
   "metadata": {
    "id": "LZH0x2Lzs-Dh"
   },
   "source": [
    "**Ответ:**  Теперь в топе оказались токены, которые несут смысловую нагрузку, а именно некие слова, уже нет предлогов и других служебных слов. "
   ]
  },
  {
   "cell_type": "markdown",
   "metadata": {
    "id": "TKSGRyI-uor0"
   },
   "source": [
    "Также выведите 20 самых непопулярных слов (если самых непопулярных слов больше выведите любые 20 из них) Почему эти токены непопулярны, требуется ли как-то дополнительно работать с ними?"
   ]
  },
  {
   "cell_type": "code",
   "execution_count": 100,
   "metadata": {
    "id": "moArbwfvun9t"
   },
   "outputs": [
    {
     "name": "stdout",
     "output_type": "stream",
     "text": [
      "20 самых непопулярных токенов:\n",
      "skellig: 1\n",
      "coast!: 1\n",
      "closer!): 1\n",
      "@skelligsix18: 1\n",
      "#skelligcoast2kms: 1\n",
      "#southkerry: 1\n",
      "https://t.co/zjcl195vqs: 1\n",
      "@srinivasiyc: 1\n",
      "https://t.co/iaek4fwsgz: 1\n",
      "premiership: 1\n",
      "non-playing: 1\n",
      "subsidise: 1\n",
      "playersãâ: 1\n",
      "renewing: 1\n",
      "wage!: 1\n",
      "flew: 1\n",
      "nothing...: 1\n",
      "@torontopearson: 1\n",
      "@680news: 1\n",
      "https://t.co/7j2y3rsld9: 1\n",
      "Размер словаря: 79584\n"
     ]
    }
   ],
   "source": [
    "print(\"20 самых непопулярных токенов:\")\n",
    "for token, count in sorted_filtered_tokens[-20:]:\n",
    "    print(f\"{token}: {count}\")\n",
    "print(f'Размер словаря: {len(sorted_filtered_tokens)}')"
   ]
  },
  {
   "cell_type": "markdown",
   "metadata": {
    "id": "uRp3J1gQunlR"
   },
   "source": [
    "**Ответ:** Как видим, в непопулярных токенах оказались ссылки, опечатки, специфичные сочетания слов, непопулярные хэштеги, отметки других пользователей. В принципе это просто шум и редко встречающиеся слова, их можно игнорировать или удалить из анализа.\n",
    "\n"
   ]
  },
  {
   "cell_type": "markdown",
   "metadata": {
    "id": "wx9LQOSPzvjV"
   },
   "source": [
    "Теперь воспользуемся токенайзером получше - TweetTokenizer из библиотеки nltk. Примените его и посмотрите на топ-10 популярных слов. Чем он отличается от топа, который получался раньше? Почему?"
   ]
  },
  {
   "cell_type": "code",
   "execution_count": 101,
   "metadata": {
    "id": "2G1UkyVxzvFY"
   },
   "outputs": [
    {
     "name": "stdout",
     "output_type": "stream",
     "text": [
      "Топ-10 популярных слов с использованием TweetTokenizer:\n",
      "the: 26993\n",
      ".: 24118\n",
      "to: 23478\n",
      ",: 17571\n",
      "and: 14825\n",
      "of: 13044\n",
      "a: 11891\n",
      "in: 11348\n",
      "?: 9524\n",
      "#coronavirus: 8808\n"
     ]
    }
   ],
   "source": [
    "from nltk.tokenize import TweetTokenizer\n",
    "\n",
    "tokenizer = TweetTokenizer()\n",
    "\n",
    "token_counts_tweet = {}\n",
    "for text in train['OriginalTweet']:\n",
    "    tokens = tokenizer.tokenize(text.lower())  # Токенизация текста с помощью TweetTokenizer и приведение к нижнему регистру\n",
    "    for token in tokens:\n",
    "        if token in token_counts_tweet:\n",
    "            token_counts_tweet[token] += 1\n",
    "        else:\n",
    "            token_counts_tweet[token] = 1\n",
    "\n",
    "# Вывод топ-10 популярных слов с использованием TweetTokenizer\n",
    "sorted_tokens_tweet = sorted(token_counts_tweet.items(), key=lambda x: x[1], reverse=True)\n",
    "print(\"Топ-10 популярных слов с использованием TweetTokenizer:\")\n",
    "for token, count in sorted_tokens_tweet[:10]:\n",
    "    print(f\"{token}: {count}\")"
   ]
  },
  {
   "cell_type": "markdown",
   "metadata": {
    "id": "50eVUnJN1Zxl"
   },
   "source": [
    "**Ответ:** Теперь в отдельные токены выделились знаки препинания, так как TweetTokenizer более точно токенизирует твиты, учитывая знаки препинания, скобочки, смайлики. "
   ]
  },
  {
   "cell_type": "markdown",
   "metadata": {
    "id": "1gqQgiMs11bs"
   },
   "source": [
    "Удалите из словаря стоп-слова и пунктуацию, посмотрите на новый топ-10 слов с количеством встреч, есть ли теперь в нем что-то не похожее на слова?"
   ]
  },
  {
   "cell_type": "code",
   "execution_count": 102,
   "metadata": {
    "id": "0yHWdFrp0Mup"
   },
   "outputs": [
    {
     "name": "stdout",
     "output_type": "stream",
     "text": [
      "Топ-10 популярных слов с использованием TweetTokenizer:\n",
      "#coronavirus: 8223\n",
      "prices: 3891\n",
      "food: 3820\n",
      "grocery: 3469\n",
      "supermarket: 3288\n",
      "people: 3175\n",
      "covid-19: 3173\n",
      "store: 3155\n",
      "#covid19: 2471\n",
      "&amp;: 2314\n"
     ]
    }
   ],
   "source": [
    "from string import punctuation\n",
    "noise = stopwords.words(\"english\") + list(punctuation)\n",
    "token_counts_tweet = {token: count for token, count in token_counts.items() if token not in noise}\n",
    "sorted_tokens_tweet = sorted(token_counts_tweet.items(), key=lambda x: x[1], reverse=True)\n",
    "print(\"Топ-10 популярных слов с использованием TweetTokenizer:\")\n",
    "for token, count in sorted_tokens_tweet[:10]:\n",
    "    print(f\"{token}: {count}\")"
   ]
  },
  {
   "cell_type": "markdown",
   "metadata": {
    "id": "8ZJqXELP_Yxy"
   },
   "source": [
    "**Ответ:** Теперь остались слова и хэштеги, но также и осталась html ссылка на амперсанд - &amp ;, что приравнивается к пунктуации, поэтому этот токен можно удалить. "
   ]
  },
  {
   "cell_type": "markdown",
   "metadata": {
    "id": "rzXjMsSB_kXB"
   },
   "source": [
    "Удалите из словаря токены из одного символа с позицией в таблице Unicode 128 и более (`ord(x) >= 128`)\n",
    "\n",
    "Выведите топ-10 самых популярных и топ-20 непопулярных слов. Чем полученные топы отличаются от итоговых топов, полученных при использовании токенизации по пробелам? Что теперь лучше, а что хуже?"
   ]
  },
  {
   "cell_type": "code",
   "execution_count": 103,
   "metadata": {
    "id": "1695hlkS_1-J"
   },
   "outputs": [
    {
     "name": "stdout",
     "output_type": "stream",
     "text": [
      "Топ-10 самых популярных слов с использованием TweetTokenizer:\n",
      "#coronavirus: 8223\n",
      "prices: 3891\n",
      "food: 3820\n",
      "grocery: 3469\n",
      "supermarket: 3288\n",
      "people: 3175\n",
      "covid-19: 3173\n",
      "store: 3155\n",
      "#covid19: 2471\n",
      "&amp;: 2314\n",
      "\n",
      "Топ-20 самых непопулярных слов с использованием TweetTokenizer:\n",
      "skellig: 1\n",
      "coast!: 1\n",
      "closer!): 1\n",
      "@skelligsix18: 1\n",
      "#skelligcoast2kms: 1\n",
      "#southkerry: 1\n",
      "https://t.co/zjcl195vqs: 1\n",
      "@srinivasiyc: 1\n",
      "https://t.co/iaek4fwsgz: 1\n",
      "premiership: 1\n",
      "non-playing: 1\n",
      "subsidise: 1\n",
      "playersãâ: 1\n",
      "renewing: 1\n",
      "wage!: 1\n",
      "flew: 1\n",
      "nothing...: 1\n",
      "@torontopearson: 1\n",
      "@680news: 1\n",
      "https://t.co/7j2y3rsld9: 1\n",
      "Размер словаря: 79559\n"
     ]
    }
   ],
   "source": [
    "# Фильтрация токенов из одного символа с позицией в таблице Unicode 128 и более\n",
    "f_token_counts_tweet = {token: count for token, count in token_counts_tweet.items() if len(token) > 1 or ord(token) < 128}\n",
    "\n",
    "# Сортировка отфильтрованного словаря по значениям в убывающем порядке\n",
    "sorted_f_tokens_tweet = sorted(f_token_counts_tweet.items(), key=lambda x: x[1], reverse=True)\n",
    "\n",
    "# Вывод новых топ-10 и топ-20 токенов\n",
    "print(\"Топ-10 самых популярных слов с использованием TweetTokenizer:\")\n",
    "for token, count in sorted_f_tokens_tweet[:10]:\n",
    "    print(f\"{token}: {count}\")\n",
    "\n",
    "print(\"\\nТоп-20 самых непопулярных слов с использованием TweetTokenizer:\")\n",
    "for token, count in sorted_f_tokens_tweet[-20:]:\n",
    "    print(f\"{token}: {count}\")\n",
    "print(f'Размер словаря: {len(sorted_f_tokens_tweet)}')"
   ]
  },
  {
   "cell_type": "markdown",
   "metadata": {
    "id": "KzjHAKIlDvc6"
   },
   "source": [
    "**Ответ:** Топ 10 остался таким же, в топ 20 непопулярных токенов также присутствуют редкие или уникальные токены, которые не являются стандартными словами в общем контексте; это специфические термины, малоупотребительные сокращения и названия, которые появились в тексте только один раз, непопулярные хэштеги, отметки и ссылки.  \n",
    "Также видим, что размер словаря сократился, что означает, что TweetTokenizer дает более информативные результаты, так как он учитывает специфику твитов, хэштеги, пунктуацию и смайлики. "
   ]
  },
  {
   "cell_type": "markdown",
   "metadata": {
    "id": "EcDf9_6HB2zm"
   },
   "source": [
    "Выведите топ-10 популярных хештегов с количеством встреч. Что можно сказать о них?"
   ]
  },
  {
   "cell_type": "code",
   "execution_count": 104,
   "metadata": {
    "id": "zk4fygCUBw3l"
   },
   "outputs": [
    {
     "name": "stdout",
     "output_type": "stream",
     "text": [
      "Топ-10 популярных хештегов:\n",
      "#coronavirus: 7166\n",
      "#COVID19: 1847\n",
      "#Covid_19: 1464\n",
      "#Coronavirus: 1285\n",
      "#COVID2019: 927\n",
      "#COVID: 685\n",
      "#toiletpaper: 657\n",
      "#covid19: 569\n",
      "#CoronaCrisis: 426\n",
      "#CoronaVirus: 351\n"
     ]
    }
   ],
   "source": [
    "import re\n",
    "\n",
    "hashtag_counts =  {}\n",
    "\n",
    "# Регулярное выражение для поиска хештегов\n",
    "pattern = re.compile(r'#\\w+')\n",
    "\n",
    "for text in train['OriginalTweet']:\n",
    "    hashtags = pattern.findall(text)  # Поиск хештегов в тексте\n",
    "    for hashtag in hashtags:\n",
    "        if hashtag in hashtag_counts:\n",
    "            hashtag_counts[hashtag] += 1\n",
    "        else:\n",
    "            hashtag_counts[hashtag] = 1\n",
    "\n",
    "# Вывод топ-10 популярных хештегов\n",
    "sorted_hashtags = sorted(hashtag_counts.items(), key=lambda x: x[1], reverse=True)\n",
    "print(\"Топ-10 популярных хештегов:\")\n",
    "for hashtag, count in sorted_hashtags[:10]:\n",
    "    print(f\"{hashtag}: {count}\")"
   ]
  },
  {
   "cell_type": "markdown",
   "metadata": {
    "id": "-6NeNWBkDxM7"
   },
   "source": [
    "**Ответ:** Хэштеги отражают тематику или тенденции, которые активно обсуждаются в социальной сети в данный момент.\n",
    "Некоторые из них могут быть связаны с актуальными событиями, кампаниями или движениями.  \n",
    "Как мы видим почти все хэштеги связаны с пандемией коронавируса, так как эти твиты были собраны за период, когда эта тема была актуальна. "
   ]
  },
  {
   "cell_type": "markdown",
   "metadata": {
    "id": "LLYBg7caD5GA"
   },
   "source": [
    "То же самое проделайте для ссылок на сайт https://t.co Сравнима ли популярность ссылок с популярностью хештегов? Будет ли информация о ссылке на конкретную страницу полезна?"
   ]
  },
  {
   "cell_type": "code",
   "execution_count": 105,
   "metadata": {
    "id": "MXbm1oeaCK9S"
   },
   "outputs": [
    {
     "name": "stdout",
     "output_type": "stream",
     "text": [
      "Топ-10 популярных ссылок на сайт https://t.co:\n",
      "https://t.co/oXA7SWtoNd: 5\n",
      "https://t.co/gP3EusapL8: 4\n",
      "https://t.co/DefTruI1PfÃ: 3\n",
      "https://t.co/WrLHYzIzAA: 3\n",
      "https://t.co/kuwIpF1KQW: 3\n",
      "https://t.co/zjNRx6dKKN: 3\n",
      "https://t.co/3GBBDpdjat: 3\n",
      "https://t.co/e2ZNXajPre: 3\n",
      "https://t.co/CATKegAyOY: 3\n",
      "https://t.co/G63RP042HO: 3\n"
     ]
    }
   ],
   "source": [
    "link_counts = {}\n",
    "\n",
    "# Регулярное выражение для поиска ссылок на сайт https://t.co\n",
    "link_pattern = re.compile(r'https://t.co/\\w+')\n",
    "\n",
    "# Подсчет встреч ссылок\n",
    "for text in train['OriginalTweet']:\n",
    "    links = link_pattern.findall(text)  # Поиск ссылок в тексте\n",
    "    for link in links:\n",
    "        if link in link_counts:\n",
    "            link_counts[link] += 1\n",
    "        else:\n",
    "            link_counts[link] = 1\n",
    "\n",
    "# Вывод топ-10 популярных ссылок\n",
    "sorted_links = sorted(link_counts.items(), key=lambda x: x[1], reverse=True)\n",
    "print(\"Топ-10 популярных ссылок на сайт https://t.co:\")\n",
    "for link, count in sorted_links[:10]:\n",
    "    print(f\"{link}: {count}\")\n"
   ]
  },
  {
   "cell_type": "markdown",
   "metadata": {
    "id": "at6lRYZ8A07N"
   },
   "source": [
    "**Ответ:** Популярность ссылок несравнима с популярностью хештегов (5 против 7166), поэтому информация о ссылках на конкретную страницу в данном случае не полезна."
   ]
  },
  {
   "cell_type": "markdown",
   "metadata": {
    "id": "IOGdUU1kBU1D"
   },
   "source": [
    "Используем опыт предыдущих экспериментов и напишем собственный токенайзер, улучшив TweetTokenizer. Функция tokenize должна:\n",
    "\n",
    "\n",
    "\n",
    "*   Привести текст в нижний регистр\n",
    "*   Применить TweetTokenizer для изначального выделения токенов\n",
    "*   Удалить стоп-слова, пунктуацию, токены из одного символа, с позицией в таблице Unicode 128 и более и ссылки на t.co\n",
    "\n"
   ]
  },
  {
   "cell_type": "code",
   "execution_count": 106,
   "metadata": {
    "id": "ctEsB6xkFrrK"
   },
   "outputs": [],
   "source": [
    "def custom_tokenizer(text):\n",
    "    text = text.lower()   # Приведение текста к нижнему регистру\n",
    "\n",
    "    tokenizer = TweetTokenizer()\n",
    "    \n",
    "    tokens = tokenizer.tokenize(text)\n",
    "    \n",
    "    noise = stopwords.words('english') + list(punctuation)\n",
    "    \n",
    "    # Регулярное выражение для поиска ссылок на сайт t.co\n",
    "    link_pattern = re.compile(r'https://t.co/\\w+')\n",
    "    \n",
    "    # Фильтрация токенов\n",
    "    filtered_tokens = []\n",
    "    for token in tokens:\n",
    "        # Удаление стоп-слов, пунктуации, токенов из одного символа и ссылок на сайт t.co\n",
    "        if token not in noise and (len(token) > 1 or ord(token) < 128) and not link_pattern.match(token):\n",
    "            filtered_tokens.append(token)\n",
    "    \n",
    "    return filtered_tokens"
   ]
  },
  {
   "cell_type": "code",
   "execution_count": 107,
   "metadata": {
    "colab": {
     "base_uri": "https://localhost:8080/"
    },
    "id": "XwbgtYkJGYym",
    "outputId": "5808765b-3448-45e6-ccc1-7cd65f6371ef"
   },
   "outputs": [
    {
     "data": {
      "text/plain": [
       "['sample', 'text', '@sample_text', '#sampletext']"
      ]
     },
     "execution_count": 107,
     "metadata": {},
     "output_type": "execute_result"
    }
   ],
   "source": [
    "custom_tokenizer('This is sample text!!!! @Sample_text I, \\x92\\x92 https://t.co/sample  #sampletext')"
   ]
  },
  {
   "cell_type": "markdown",
   "metadata": {
    "id": "wURVABmXHk97"
   },
   "source": [
    "## Задание 3 Векторизация текстов (2 балла)"
   ]
  },
  {
   "cell_type": "markdown",
   "metadata": {
    "id": "H44iXkoHIQfN"
   },
   "source": [
    "Обучите CountVectorizer с использованием custom_tokenizer в качестве токенайзера. Как размер полученного словаря соотносится с размером изначального словаря из начала задания 2?"
   ]
  },
  {
   "cell_type": "code",
   "execution_count": 108,
   "metadata": {
    "colab": {
     "base_uri": "https://localhost:8080/"
    },
    "id": "gHn_limQl3BI",
    "outputId": "8e9c1826-319f-4376-f06e-c30c2eb82648"
   },
   "outputs": [
    {
     "name": "stdout",
     "output_type": "stream",
     "text": [
      "45309\n"
     ]
    }
   ],
   "source": [
    "from sklearn.feature_extraction.text import CountVectorizer\n",
    "\n",
    "cv = CountVectorizer(tokenizer=custom_tokenizer)\n",
    "X = cv.fit_transform(train['OriginalTweet'])\n",
    "print(len(cv.vocabulary_))"
   ]
  },
  {
   "cell_type": "markdown",
   "metadata": {
    "id": "gsfmaSGoItUm"
   },
   "source": [
    "**Ответ:** В начале получили размер словаря 79755, сейчас размер 45309. Таким образом, используя написанный токанайзер custom_tokenizer, учитывающий специфику твитов, мы смогли убрать шум и сократили словарь на 44%. "
   ]
  },
  {
   "cell_type": "markdown",
   "metadata": {
    "id": "lm6UHNmqKZT0"
   },
   "source": [
    "Посмотрим на какой-нибудь конкретный твитт:"
   ]
  },
  {
   "cell_type": "code",
   "execution_count": 109,
   "metadata": {
    "id": "aJVjjfqOJh8m"
   },
   "outputs": [
    {
     "data": {
      "text/plain": [
       "('Nice one @SkyNews lets not panic but show ppl in france queueing for food!!! #CoronavirusOutbreak #COVID2019 brainless!! Ffs',\n",
       " 0)"
      ]
     },
     "execution_count": 109,
     "metadata": {},
     "output_type": "execute_result"
    }
   ],
   "source": [
    "ind = 9023\n",
    "train.iloc[ind]['OriginalTweet'], train.iloc[ind]['Sentiment']"
   ]
  },
  {
   "cell_type": "markdown",
   "metadata": {
    "id": "PBMIHBI5KdaS"
   },
   "source": [
    "Автор твитта не доволен ситуацией с едой во Франции и текст имеет резко негативную окраску.\n",
    "\n",
    "Примените обученный CountVectorizer для векторизации данного текста, и попытайтесь определить самый важный токен и самый неважный токен (токен, компонента которого в векторе максимальна/минимальна, без учета 0). Хорошо ли они определились, почему?"
   ]
  },
  {
   "cell_type": "code",
   "execution_count": 110,
   "metadata": {
    "id": "7NcAllaEKsJj"
   },
   "outputs": [
    {
     "name": "stdout",
     "output_type": "stream",
     "text": [
      "Самый важный токен: #coronavirusoutbreak\n",
      "Самый неважный токен (компонента вектора без учета 0): ###covid-19\n"
     ]
    }
   ],
   "source": [
    "new_text_vectorized = cv.transform([train.iloc[ind]['OriginalTweet']])\n",
    "feature_names = cv.get_feature_names_out()\n",
    "\n",
    "# Поиск самого важного токена\n",
    "max_component_index = new_text_vectorized.toarray().argmax()\n",
    "most_important_token = feature_names[max_component_index]\n",
    "\n",
    "# Поиск самого неважного токена\n",
    "min_component_index = new_text_vectorized.toarray().argmin()\n",
    "min_component = new_text_vectorized.toarray().min()\n",
    "least_important_token = feature_names[min_component_index]\n",
    "\n",
    "print(\"Самый важный токен:\", most_important_token)\n",
    "print(\"Самый неважный токен (компонента вектора без учета 0):\", least_important_token)"
   ]
  },
  {
   "cell_type": "markdown",
   "metadata": {
    "id": "TpEsl1k_NF4T"
   },
   "source": [
    "**Ответ:** В этом случае определился хэштег #coronavirusoutbreak как самый важный токен, по этому токену скорее можно что-то сказать о настроении твита, однако в твите есть более явные токены для определения настроения.   \n",
    "CountVectorizer просто считает количество вхождений каждого токена в документ. Веса токенов определяются только их частотой в документе, поэтому этот векторайзер плохо подходит для выявления важных токенов."
   ]
  },
  {
   "cell_type": "markdown",
   "metadata": {
    "id": "w4DsEQpLO3J6"
   },
   "source": [
    "Теперь примените TfidfVectorizer и  определите самый важный/неважный токены. Хорошо ли определились, почему?"
   ]
  },
  {
   "cell_type": "code",
   "execution_count": 111,
   "metadata": {
    "id": "uSNzdK3ENGB3"
   },
   "outputs": [
    {
     "name": "stdout",
     "output_type": "stream",
     "text": [
      "Самый важный токен (TfidfVectorizer): brainless\n",
      "Самый неважный токен (TfidfVectorizer, компонента вектора без учета 0): ###covid-19\n"
     ]
    }
   ],
   "source": [
    "from sklearn.feature_extraction.text import TfidfVectorizer\n",
    "\n",
    "# Инициализация TfidfVectorizer с использованием custom_tokenizer в качестве токенизатора\n",
    "tfidf_vectorizer = TfidfVectorizer(tokenizer=custom_tokenizer)\n",
    "\n",
    "X_tfidf = tfidf_vectorizer.fit_transform(train['OriginalTweet'])\n",
    "\n",
    "# Векторизация нового текста\n",
    "new_text_vectorized_tfidf = tfidf_vectorizer.transform([train.iloc[ind]['OriginalTweet']])\n",
    "feature_names_tfidf = tfidf_vectorizer.get_feature_names_out()\n",
    "\n",
    "# Поиск самого важного токена\n",
    "max_component_index_tfidf = new_text_vectorized_tfidf.toarray().argmax()\n",
    "most_important_token_tfidf = feature_names_tfidf[max_component_index_tfidf]\n",
    "\n",
    "# Поиск самого неважного токена\n",
    "min_component_index_tfidf = new_text_vectorized_tfidf.toarray().argmin()\n",
    "min_component_tfidf = new_text_vectorized_tfidf.toarray().min()\n",
    "least_important_token_tfidf = feature_names_tfidf[min_component_index_tfidf]\n",
    "\n",
    "print(\"Самый важный токен (TfidfVectorizer):\", most_important_token_tfidf)\n",
    "print(\"Самый неважный токен (TfidfVectorizer, компонента вектора без учета 0):\", least_important_token_tfidf)"
   ]
  },
  {
   "cell_type": "markdown",
   "metadata": {
    "id": "NYao_UhqQADm"
   },
   "source": [
    "**Ответ:** Здесь выделился токен brainless как самый важный, этот токен чаще встретится в негативных твитах, поэтому с данным векторайзером лучше выделяется важныф токен.  \n",
    "TfidfVectorizer вычисляет веса токенов с использованием tf-idf. Это показатель, который учитывает не только частоту токена в документе, но и обратную частоту токена во всех документах коллекции. Это позволяет выделить ключевые слова, которые часто встречаются в конкретном документе, но редко встречаются в остальных документах коллекции. Так, данный векторайзер лучше всго определяет важные токены."
   ]
  },
  {
   "cell_type": "markdown",
   "metadata": {
    "id": "LGRJPqfWSesQ"
   },
   "source": [
    "Найдите какой-нибудь положительно окрашенный твитт, где TfidfVectorizer хорошо (полезно для определения окраски) выделяет важный токен, поясните пример.\n",
    "\n",
    "*Подсказка:* явно положительные твитты можно искать при помощи положительных слов (good, great, amazing и т. д.)"
   ]
  },
  {
   "cell_type": "code",
   "execution_count": 112,
   "metadata": {
    "colab": {
     "base_uri": "https://localhost:8080/",
     "height": 53
    },
    "id": "bRbQ2CHiSuJI",
    "outputId": "c4b34a7d-1076-4e1e-ad5c-9466fd2097c2"
   },
   "outputs": [
    {
     "data": {
      "text/html": [
       "<div>\n",
       "<style scoped>\n",
       "    .dataframe tbody tr th:only-of-type {\n",
       "        vertical-align: middle;\n",
       "    }\n",
       "\n",
       "    .dataframe tbody tr th {\n",
       "        vertical-align: top;\n",
       "    }\n",
       "\n",
       "    .dataframe thead th {\n",
       "        text-align: right;\n",
       "    }\n",
       "</style>\n",
       "<table border=\"1\" class=\"dataframe\">\n",
       "  <thead>\n",
       "    <tr style=\"text-align: right;\">\n",
       "      <th></th>\n",
       "      <th>UserName</th>\n",
       "      <th>ScreenName</th>\n",
       "      <th>Location</th>\n",
       "      <th>TweetAt</th>\n",
       "      <th>OriginalTweet</th>\n",
       "      <th>Sentiment</th>\n",
       "    </tr>\n",
       "  </thead>\n",
       "  <tbody>\n",
       "    <tr>\n",
       "      <th>4583</th>\n",
       "      <td>9362</td>\n",
       "      <td>54314</td>\n",
       "      <td>Moulton, England</td>\n",
       "      <td>19-03-2020</td>\n",
       "      <td>Hearing so many stories of NHS heroes Teachers...</td>\n",
       "      <td>1</td>\n",
       "    </tr>\n",
       "    <tr>\n",
       "      <th>8221</th>\n",
       "      <td>13787</td>\n",
       "      <td>58739</td>\n",
       "      <td>Unknown</td>\n",
       "      <td>20-03-2020</td>\n",
       "      <td>Let s just take a minute to say THANK YOU also...</td>\n",
       "      <td>1</td>\n",
       "    </tr>\n",
       "    <tr>\n",
       "      <th>3183</th>\n",
       "      <td>7654</td>\n",
       "      <td>52606</td>\n",
       "      <td>London, England</td>\n",
       "      <td>18-03-2020</td>\n",
       "      <td>Back at the \"Frontline\"\\r\\r\\nA massive shout o...</td>\n",
       "      <td>1</td>\n",
       "    </tr>\n",
       "    <tr>\n",
       "      <th>24347</th>\n",
       "      <td>33577</td>\n",
       "      <td>78529</td>\n",
       "      <td>Unknown</td>\n",
       "      <td>05-04-2020</td>\n",
       "      <td>Massive thanks to @waitrose for my delivery of...</td>\n",
       "      <td>1</td>\n",
       "    </tr>\n",
       "    <tr>\n",
       "      <th>3281</th>\n",
       "      <td>7772</td>\n",
       "      <td>52724</td>\n",
       "      <td>Nairobi, Kenya</td>\n",
       "      <td>18-03-2020</td>\n",
       "      <td>Crisp clean fresh air perfect ambience Covid 1...</td>\n",
       "      <td>1</td>\n",
       "    </tr>\n",
       "    <tr>\n",
       "      <th>...</th>\n",
       "      <td>...</td>\n",
       "      <td>...</td>\n",
       "      <td>...</td>\n",
       "      <td>...</td>\n",
       "      <td>...</td>\n",
       "      <td>...</td>\n",
       "    </tr>\n",
       "    <tr>\n",
       "      <th>8199</th>\n",
       "      <td>13757</td>\n",
       "      <td>58709</td>\n",
       "      <td>Wrightington</td>\n",
       "      <td>20-03-2020</td>\n",
       "      <td>The support from customers this week has been ...</td>\n",
       "      <td>1</td>\n",
       "    </tr>\n",
       "    <tr>\n",
       "      <th>11636</th>\n",
       "      <td>17911</td>\n",
       "      <td>62863</td>\n",
       "      <td>Australia</td>\n",
       "      <td>21-03-2020</td>\n",
       "      <td>Margot Robbie is an amazing actress, and love ...</td>\n",
       "      <td>1</td>\n",
       "    </tr>\n",
       "    <tr>\n",
       "      <th>23018</th>\n",
       "      <td>31918</td>\n",
       "      <td>76870</td>\n",
       "      <td>Karachi, Pakistan</td>\n",
       "      <td>04-04-2020</td>\n",
       "      <td>Face Mask (Pack of 5) ÃÂ Meeting the need of...</td>\n",
       "      <td>1</td>\n",
       "    </tr>\n",
       "    <tr>\n",
       "      <th>5208</th>\n",
       "      <td>10126</td>\n",
       "      <td>55078</td>\n",
       "      <td>Unknown</td>\n",
       "      <td>19-03-2020</td>\n",
       "      <td>There's some amazing work going on in the worl...</td>\n",
       "      <td>1</td>\n",
       "    </tr>\n",
       "    <tr>\n",
       "      <th>469</th>\n",
       "      <td>4365</td>\n",
       "      <td>49317</td>\n",
       "      <td>TaÃÂ¯wan</td>\n",
       "      <td>16-03-2020</td>\n",
       "      <td>#COVID19 19 A friend of mine in the US works a...</td>\n",
       "      <td>1</td>\n",
       "    </tr>\n",
       "  </tbody>\n",
       "</table>\n",
       "<p>68 rows × 6 columns</p>\n",
       "</div>"
      ],
      "text/plain": [
       "       UserName  ScreenName           Location     TweetAt  \\\n",
       "4583       9362       54314   Moulton, England  19-03-2020   \n",
       "8221      13787       58739            Unknown  20-03-2020   \n",
       "3183       7654       52606    London, England  18-03-2020   \n",
       "24347     33577       78529            Unknown  05-04-2020   \n",
       "3281       7772       52724     Nairobi, Kenya  18-03-2020   \n",
       "...         ...         ...                ...         ...   \n",
       "8199      13757       58709      Wrightington   20-03-2020   \n",
       "11636     17911       62863          Australia  21-03-2020   \n",
       "23018     31918       76870  Karachi, Pakistan  04-04-2020   \n",
       "5208      10126       55078            Unknown  19-03-2020   \n",
       "469        4365       49317          TaÃÂ¯wan  16-03-2020   \n",
       "\n",
       "                                           OriginalTweet  Sentiment  \n",
       "4583   Hearing so many stories of NHS heroes Teachers...          1  \n",
       "8221   Let s just take a minute to say THANK YOU also...          1  \n",
       "3183   Back at the \"Frontline\"\\r\\r\\nA massive shout o...          1  \n",
       "24347  Massive thanks to @waitrose for my delivery of...          1  \n",
       "3281   Crisp clean fresh air perfect ambience Covid 1...          1  \n",
       "...                                                  ...        ...  \n",
       "8199   The support from customers this week has been ...          1  \n",
       "11636  Margot Robbie is an amazing actress, and love ...          1  \n",
       "23018  Face Mask (Pack of 5) ÃÂ Meeting the need of...          1  \n",
       "5208   There's some amazing work going on in the worl...          1  \n",
       "469    #COVID19 19 A friend of mine in the US works a...          1  \n",
       "\n",
       "[68 rows x 6 columns]"
      ]
     },
     "execution_count": 112,
     "metadata": {},
     "output_type": "execute_result"
    }
   ],
   "source": [
    "train[train['OriginalTweet'].apply(lambda x: 'amazing' in x) & (train['Sentiment'] == 1)]"
   ]
  },
  {
   "cell_type": "code",
   "execution_count": 113,
   "metadata": {
    "id": "jSjbKPCWk87K"
   },
   "outputs": [
    {
     "name": "stdout",
     "output_type": "stream",
     "text": [
      "Самый важный токен (TfidfVectorizer): thank\n"
     ]
    }
   ],
   "source": [
    "ind = 8221\n",
    "new_text_vectorized_tfidf = tfidf_vectorizer.transform([train.loc[ind]['OriginalTweet']])\n",
    "feature_names_tfidf = tfidf_vectorizer.get_feature_names_out()\n",
    "# Поиск самого важного токена\n",
    "max_component_index_tfidf = new_text_vectorized_tfidf.toarray().argmax()\n",
    "most_important_token_tfidf = feature_names_tfidf[max_component_index_tfidf]\n",
    "\n",
    "print(\"Самый важный токен (TfidfVectorizer):\", most_important_token_tfidf)"
   ]
  },
  {
   "cell_type": "markdown",
   "metadata": {
    "id": "JTv9ST2_U6NA"
   },
   "source": [
    "**Ответ:** Здесь выделился токен thank как самый важен, этот токен почти всегда встречается в положительных твитах, так как люди выражают благодарность. "
   ]
  },
  {
   "cell_type": "markdown",
   "metadata": {
    "id": "JVEuZm8BHms6"
   },
   "source": [
    "## Задание 4 Обучение первых моделей (1 балл)"
   ]
  },
  {
   "cell_type": "markdown",
   "metadata": {
    "id": "JADkO3sfXdOG"
   },
   "source": [
    "Примените оба векторайзера для получения матриц с признаками текстов.  Выделите целевую переменную."
   ]
  },
  {
   "cell_type": "code",
   "execution_count": 43,
   "metadata": {
    "id": "DguoiXhCX2oN"
   },
   "outputs": [
    {
     "name": "stdout",
     "output_type": "stream",
     "text": [
      "45309\n"
     ]
    }
   ],
   "source": [
    "X_count = cv.fit_transform(train['OriginalTweet'])\n",
    "X_tfifd = tfidf_vectorizer.fit_transform(train['OriginalTweet'])\n",
    "X_count_test = cv.transform(test['OriginalTweet'])\n",
    "X_tfifd_test = tfidf_vectorizer.transform(test['OriginalTweet'])\n",
    "\n",
    "y_train = train['Sentiment']\n",
    "y_test = test['Sentiment']\n",
    "print(len(cv.vocabulary_))"
   ]
  },
  {
   "cell_type": "markdown",
   "metadata": {
    "id": "_FX1KSOfYSx4"
   },
   "source": [
    "Обучите логистическую регрессию на векторах из обоих векторайзеров. Посчитайте долю правильных ответов на обучающих и тестовых данных. Какой векторайзер показал лучший результат? Что можно сказать о моделях?"
   ]
  },
  {
   "cell_type": "code",
   "execution_count": 44,
   "metadata": {
    "id": "-Tb3eh8UXJ6v"
   },
   "outputs": [
    {
     "name": "stdout",
     "output_type": "stream",
     "text": [
      "0.8672513454255532\n",
      "0.8531991229818616\n"
     ]
    }
   ],
   "source": [
    "from sklearn.linear_model import LogisticRegression\n",
    "from sklearn.metrics import accuracy_score\n",
    "\n",
    "clf = LogisticRegression(max_iter=400, random_state=56)\n",
    "clf.fit(X_count, y_train)\n",
    "pred = clf.predict(X_count_test)\n",
    "print(accuracy_score(y_test, pred))\n",
    "\n",
    "clf.fit(X_tfifd, y_train)\n",
    "pred = clf.predict(X_tfifd_test)\n",
    "print(accuracy_score(y_test, pred))"
   ]
  },
  {
   "cell_type": "markdown",
   "metadata": {
    "id": "8y_wO7rCmv7K"
   },
   "source": [
    "**Ответ:** В данном случае логистическая регрессия с CountVectorizer показала себя лучше, чем с TfidfVectorizer. Получается, для данной задачи представление текста с использованием частоты встречаемости слов (CountVectorizer) оказалось более информативным, чем представление с использованием весов TF-IDF."
   ]
  },
  {
   "cell_type": "markdown",
   "metadata": {
    "id": "rSOR1i3mjrys"
   },
   "source": [
    "## Задание 5 Стемминг (0.5 балла)"
   ]
  },
  {
   "cell_type": "markdown",
   "metadata": {
    "id": "i6ONBWNPjuq-"
   },
   "source": [
    "Для уменьшения словаря можно использовать стемминг.\n",
    "\n",
    "Модифицируйте написанный токенайзер, добавив в него стемминг с использованием SnowballStemmer. Обучите Count- и Tfidf- векторайзеры. Как изменился размер словаря?"
   ]
  },
  {
   "cell_type": "code",
   "execution_count": 45,
   "metadata": {
    "id": "oVfA2-iMkQBb"
   },
   "outputs": [],
   "source": [
    "from nltk.stem import SnowballStemmer\n",
    "def custom_stem_tokenizer(text):\n",
    "    text = text.lower()   # Приведение текста к нижнему регистру\n",
    "    stemmer = SnowballStemmer('english')\n",
    "    tokenizer = TweetTokenizer()\n",
    "    tokens = tokenizer.tokenize(text)\n",
    "    noise = stopwords.words('english') + list(punctuation)\n",
    "    \n",
    "    # Регулярное выражение для поиска ссылок на сайт t.co\n",
    "    link_pattern = re.compile(r'https://t.co/\\w+')\n",
    "    \n",
    "    # Фильтрация токенов\n",
    "    filtered_tokens = []\n",
    "    for token in tokens:\n",
    "        # Удаление стоп-слов, пунктуации, токенов из одного символа и ссылок на сайт t.co\n",
    "        if token not in noise and (len(token) > 1 or ord(token) < 128) and not link_pattern.match(token):\n",
    "            token = stemmer.stem(token)\n",
    "            filtered_tokens.append(token)\n",
    "    \n",
    "    return filtered_tokens"
   ]
  },
  {
   "cell_type": "code",
   "execution_count": 46,
   "metadata": {
    "colab": {
     "base_uri": "https://localhost:8080/"
    },
    "id": "9QmrjYtqnlPd",
    "outputId": "cd91291d-9676-4611-9fc4-28afaed58963"
   },
   "outputs": [
    {
     "data": {
      "text/plain": [
       "['sampl', 'text', '@sample_text', '#sampletext', 'ad', 'word', 'check', 'stem']"
      ]
     },
     "execution_count": 46,
     "metadata": {},
     "output_type": "execute_result"
    }
   ],
   "source": [
    "custom_stem_tokenizer('This is sample text!!!! @Sample_text I, \\x92\\x92 https://t.co/sample  #sampletext adding more words to check stemming')"
   ]
  },
  {
   "cell_type": "code",
   "execution_count": 47,
   "metadata": {
    "colab": {
     "base_uri": "https://localhost:8080/"
    },
    "id": "zAvUTmaplzOS",
    "outputId": "566207fe-183b-4ed6-d333-f86f0cc9ae38"
   },
   "outputs": [
    {
     "name": "stdout",
     "output_type": "stream",
     "text": [
      "36653\n"
     ]
    }
   ],
   "source": [
    "cv = CountVectorizer(tokenizer=custom_stem_tokenizer)\n",
    "tfidf_v = TfidfVectorizer(tokenizer=custom_stem_tokenizer)\n",
    "\n",
    "X_count = cv.fit_transform(train['OriginalTweet'])\n",
    "X_tfidf = tfidf_v.fit_transform(train['OriginalTweet'])\n",
    "\n",
    "X_count_test = cv.transform(test['OriginalTweet'])\n",
    "X_tfidf_test = tfidf_v.transform(test['OriginalTweet'])\n",
    "\n",
    "print(len(cv.vocabulary_))"
   ]
  },
  {
   "cell_type": "markdown",
   "metadata": {
    "id": "Oyzs5TaAoHP6"
   },
   "source": [
    "**Ответ** Размер словаря заметно уменьшился, так как стемминг удаляет суффиксы, окончания у слов, чтобы привести их к основной форме, за счет приведения однокоренных слов к одной основе и уменьшается размер словаря. "
   ]
  },
  {
   "cell_type": "markdown",
   "metadata": {
    "id": "1OkncHI8oRmd"
   },
   "source": [
    "Обучите логистическую регрессию с использованием обоих векторайзеров. Изменилось ли качество? Есть ли смысл применять стемминг?"
   ]
  },
  {
   "cell_type": "code",
   "execution_count": 48,
   "metadata": {
    "id": "ykZJPphEoZ5W"
   },
   "outputs": [
    {
     "name": "stdout",
     "output_type": "stream",
     "text": [
      "0.8672513454255532\n",
      "0.8531991229818616\n"
     ]
    }
   ],
   "source": [
    "clf = LogisticRegression(max_iter=400, random_state=56)\n",
    "clf.fit(X_count, y_train)\n",
    "pred = clf.predict(X_count_test)\n",
    "print(accuracy_score(y_test, pred))\n",
    "\n",
    "clf.fit(X_tfifd, y_train)\n",
    "pred = clf.predict(X_tfifd_test)\n",
    "print(accuracy_score(y_test, pred))"
   ]
  },
  {
   "cell_type": "markdown",
   "metadata": {
    "id": "bCRlrODro0h8"
   },
   "source": [
    "**Ответ:** На этих данных качество не поменялось. Есть смысл в применении стемминга, так как благодаря ему мы заметно сократили словарь, из-за чего вычисления ускорятся, и в нашем случае качество не поменялось при меньшем словаре."
   ]
  },
  {
   "cell_type": "markdown",
   "metadata": {
    "id": "hYWGQNEDqLC-"
   },
   "source": [
    "## Задание  6 Работа с частотами (1.5 балла)"
   ]
  },
  {
   "cell_type": "markdown",
   "metadata": {
    "id": "8Hq-tl5mqUSn"
   },
   "source": [
    "Еще один способ уменьшить количество признаков - это использовать параметры min_df и max_df при построении векторайзера  эти параметры помогают ограничить требуемую частоту встречаемости токена в документах.\n",
    "\n",
    "По умолчанию берутся все токены, которые встретились хотя бы один раз.\n",
    "\n"
   ]
  },
  {
   "cell_type": "markdown",
   "metadata": {
    "id": "m1SiD4DE3WZ2"
   },
   "source": [
    "Подберите max_df такой, что размер словаря будет 36651 (на 1 меньше, чем было). Почему параметр получился такой большой/маленький?"
   ]
  },
  {
   "cell_type": "code",
   "execution_count": 49,
   "metadata": {
    "colab": {
     "base_uri": "https://localhost:8080/"
    },
    "id": "o3YLb8PViExb",
    "outputId": "b6d67654-d232-4e11-a5ca-6f2145053e98"
   },
   "outputs": [
    {
     "name": "stderr",
     "output_type": "stream",
     "text": [
      "C:\\Users\\79061\\anaconda3\\lib\\site-packages\\sklearn\\feature_extraction\\text.py:516: UserWarning: The parameter 'token_pattern' will not be used since 'tokenizer' is not None'\n",
      "  warnings.warn(\n"
     ]
    },
    {
     "name": "stdout",
     "output_type": "stream",
     "text": [
      "36652\n"
     ]
    }
   ],
   "source": [
    "cv_df = CountVectorizer(tokenizer=custom_stem_tokenizer,\n",
    "                        max_df=0.3\n",
    "                        ).fit(\n",
    "                            train['OriginalTweet']\n",
    "                            )\n",
    "print(len(cv_df.vocabulary_))"
   ]
  },
  {
   "cell_type": "code",
   "execution_count": 50,
   "metadata": {
    "id": "tyEpkJUkjnuK"
   },
   "outputs": [
    {
     "name": "stdout",
     "output_type": "stream",
     "text": [
      "0.8680486346422165\n"
     ]
    }
   ],
   "source": [
    "X_count = cv_df.transform(train['OriginalTweet'])\n",
    "\n",
    "X_count_test = cv_df.transform(test['OriginalTweet'])\n",
    "\n",
    "clf = LogisticRegression(max_iter=400, random_state=56)\n",
    "clf.fit(X_count, y_train)\n",
    "pred = clf.predict(X_count_test)\n",
    "print(accuracy_score(y_test, pred))"
   ]
  },
  {
   "cell_type": "markdown",
   "metadata": {
    "id": "UdZYoGZR4UsA"
   },
   "source": [
    "**Ответ:** Параметр max_df в CountVectorizer используется для фильтрации токенов, которые встречаются слишком часто в документах. max_df принимает относительно низкое значение, чтобы исключить чрезмерно частые токены, в результате чего сокращается размер словаря. Это позволит сохранить только наиболее информативные и разнообразные токены."
   ]
  },
  {
   "cell_type": "markdown",
   "metadata": {
    "id": "_gRIUaB1u32f"
   },
   "source": [
    "Подберите min_df (используйте дефолтное значение max_df) в CountVectorizer таким образом, чтобы размер словаря был 3700 токенов (при использовании токенайзера со стеммингом), а качество осталось таким же, как и было. Что можно сказать о результатах?"
   ]
  },
  {
   "cell_type": "code",
   "execution_count": 51,
   "metadata": {
    "colab": {
     "base_uri": "https://localhost:8080/"
    },
    "id": "kSnMJkn9XmsT",
    "outputId": "e0d8eb21-e5d7-46b4-e1d1-4b1ae220e9a0"
   },
   "outputs": [
    {
     "name": "stderr",
     "output_type": "stream",
     "text": [
      "C:\\Users\\79061\\anaconda3\\lib\\site-packages\\sklearn\\feature_extraction\\text.py:516: UserWarning: The parameter 'token_pattern' will not be used since 'tokenizer' is not None'\n",
      "  warnings.warn(\n"
     ]
    },
    {
     "name": "stdout",
     "output_type": "stream",
     "text": [
      "3700\n"
     ]
    }
   ],
   "source": [
    "cv_df = CountVectorizer(tokenizer=custom_stem_tokenizer,\n",
    "                        min_df=0.00045\n",
    "                        ).fit(\n",
    "                            train['OriginalTweet']\n",
    "                            )\n",
    "print(len(cv_df.vocabulary_))"
   ]
  },
  {
   "cell_type": "code",
   "execution_count": 52,
   "metadata": {
    "id": "mvMDwpdfjm8Y"
   },
   "outputs": [
    {
     "name": "stdout",
     "output_type": "stream",
     "text": [
      "0.8680486346422165\n"
     ]
    }
   ],
   "source": [
    "X_count = cv_df.transform(train['OriginalTweet'])\n",
    "\n",
    "X_count_test = cv_df.transform(test['OriginalTweet'])\n",
    "\n",
    "clf = LogisticRegression(max_iter=400, random_state=56)\n",
    "clf.fit(X_count, y_train)\n",
    "pred = clf.predict(X_count_test)\n",
    "print(accuracy_score(y_test, pred))"
   ]
  },
  {
   "cell_type": "markdown",
   "metadata": {
    "id": "3fGYpUIZx0fk"
   },
   "source": [
    "**Ответ:** Установка min_df позволяет определить минимальное количество документов, в которых токен должен встречаться, чтобы быть включенным в словарь. В  нашем случае мы получили маленькое значение данного параметра, что означает, что в словарь могут быть включены токены, которые встречаются в очень небольшом количестве документов. При этом мы получили такое же достаточно хорошее значение accuracy."
   ]
  },
  {
   "cell_type": "markdown",
   "metadata": {
    "id": "Gx_h_-inKbBl"
   },
   "source": [
    "В предыдущих заданиях признаки не скалировались. Отскалируйте данные (при словаре размера 3.7 тысяч, векторизованные CountVectorizer), обучите логистическую регрессию, посмотрите качество и выведите `berplot` содержащий по 10 токенов, с наибольшим по модулю положительными/отрицательными весами. Что можно сказать об этих токенах?"
   ]
  },
  {
   "cell_type": "code",
   "execution_count": 53,
   "metadata": {
    "id": "KBATXJX6LG9q"
   },
   "outputs": [
    {
     "name": "stdout",
     "output_type": "stream",
     "text": [
      "0.8446282639027307\n"
     ]
    }
   ],
   "source": [
    "from sklearn.preprocessing import StandardScaler\n",
    "scaler = StandardScaler(with_mean=False)\n",
    "X_train_scaled = scaler.fit_transform(X_count)\n",
    "X_test_scaled = scaler.transform(X_count_test)\n",
    "\n",
    "clf = LogisticRegression(max_iter=400, random_state=56)\n",
    "clf.fit(X_train_scaled, y_train)\n",
    "pred = clf.predict(X_test_scaled)\n",
    "print(accuracy_score(y_test, pred))"
   ]
  },
  {
   "cell_type": "code",
   "execution_count": 54,
   "metadata": {},
   "outputs": [
    {
     "name": "stderr",
     "output_type": "stream",
     "text": [
      "C:\\Users\\79061\\anaconda3\\lib\\site-packages\\sklearn\\utils\\deprecation.py:87: FutureWarning: Function get_feature_names is deprecated; get_feature_names is deprecated in 1.0 and will be removed in 1.2. Please use get_feature_names_out instead.\n",
      "  warnings.warn(msg, category=FutureWarning)\n"
     ]
    },
    {
     "data": {
      "image/png": "[encoded data removed]",
      "text/plain": [
       "<Figure size 720x432 with 1 Axes>"
      ]
     },
     "metadata": {
      "needs_background": "light"
     },
     "output_type": "display_data"
    }
   ],
   "source": [
    "import matplotlib.pyplot as plt\n",
    "\n",
    "# Получение индексов токенов с наибольшими по модулю весами\n",
    "feature_names = cv_df.get_feature_names()\n",
    "top_indices = np.argsort(np.abs(clf.coef_[0]))[-10:]\n",
    "\n",
    "# Получение токенов с наибольшими и наименьшими по модулю весами\n",
    "top_tokens = [feature_names[i] for i in top_indices]\n",
    "\n",
    "# Получение весов соответствующих токенов\n",
    "top_weights = [clf.coef_[0][i] for i in top_indices]\n",
    "\n",
    "# Построение barplot для токенов с наибольшими и наименьшими по модулю весами\n",
    "plt.figure(figsize=(10, 6))\n",
    "plt.barh(top_tokens, top_weights, color='green', label='Max Abs Weights')\n",
    "plt.xlabel('Weights')\n",
    "plt.ylabel('Tokens')\n",
    "plt.title('Top 10 Tokens with Largest Weights')\n",
    "plt.legend()\n",
    "plt.show()"
   ]
  },
  {
   "cell_type": "markdown",
   "metadata": {
    "id": "ThcEfzY1LHET"
   },
   "source": [
    "**Ответ:** При отскалированных значениях качество модели ухудшилось, однако теперь по весам можно определить токены, которые сильнее всех влияют на окрас твита. Как видно из гистограммы такие слова как crisis, panic, scam предают твиту негативный окрас, а слова hand, best, thank, help - положительный, это корректные и логичные выводы из результатов модели. "
   ]
  },
  {
   "cell_type": "markdown",
   "metadata": {
    "id": "ktJVOdrIHq7B"
   },
   "source": [
    "## Задание 7 Другие признаки (1.5 балла)"
   ]
  },
  {
   "cell_type": "markdown",
   "metadata": {
    "id": "Yt3jRCZ2H0Og"
   },
   "source": [
    "Мы были сконцентрированы на работе с текстами твиттов и не использовали другие признаки - имена пользователя, дату и местоположение"
   ]
  },
  {
   "cell_type": "markdown",
   "metadata": {
    "id": "52wjewCCo_di"
   },
   "source": [
    "Изучите признаки UserName и ScreenName. полезны ли они? Если полезны, то закодируйте их, добавьте к матрице с отскалированными признаками, обучите логистическую регрессию, замерьте качество."
   ]
  },
  {
   "cell_type": "code",
   "execution_count": 119,
   "metadata": {
    "id": "63thouYZptj6"
   },
   "outputs": [
    {
     "name": "stdout",
     "output_type": "stream",
     "text": [
      "33444\n",
      "33444\n",
      "33444\n"
     ]
    }
   ],
   "source": [
    "print(df['UserName'].nunique())\n",
    "print(df['ScreenName'].nunique())\n",
    "print(df.shape[0])"
   ]
  },
  {
   "cell_type": "markdown",
   "metadata": {
    "id": "r8_qR-gnpT3a"
   },
   "source": [
    "**Ответ:** Все значения UserName и ScreenName уникальны, поэтому они совершенно бесполезны. И в любом случае поля Name такого рода ведут к переобучению модели и не дадут ни какой пользы на новых данных. Так, UserName и ScreenName не полезны."
   ]
  },
  {
   "cell_type": "markdown",
   "metadata": {
    "id": "ythEcFSkt7y3"
   },
   "source": [
    "Изучите признак TweetAt в обучающей выборке: преобразуйте его к типу datetime и нарисуйте его гистограмму с разделением по цвету на оспнове целевой переменной. Полезен ли он? Если полезен, то закодируйте его, добавьте к матрице с отскалированными признаками, обучите логистическую регрессию, замерьте качество."
   ]
  },
  {
   "cell_type": "code",
   "execution_count": 57,
   "metadata": {
    "id": "Lxb_k0JLirNv"
   },
   "outputs": [],
   "source": [
    "df['TweetAt'] = pd.to_datetime(df['TweetAt'], format='%d-%m-%Y')"
   ]
  },
  {
   "cell_type": "code",
   "execution_count": 58,
   "metadata": {
    "scrolled": false
   },
   "outputs": [
    {
     "data": {
      "image/png": "[encoded data removed]",
      "text/plain": [
       "<Figure size 720x432 with 1 Axes>"
      ]
     },
     "metadata": {
      "needs_background": "light"
     },
     "output_type": "display_data"
    }
   ],
   "source": [
    "positive_tweets = df[df['Sentiment'] == 1]\n",
    "negative_tweets = df[df['Sentiment'] == 0]\n",
    "\n",
    "# Построение гистограммы с разделением по цвету\n",
    "plt.figure(figsize=(10, 6))\n",
    "plt.hist(positive_tweets['TweetAt'], color='green', label='Positive Sentiment')\n",
    "plt.hist(negative_tweets['TweetAt'], color='red', label='Negative Sentiment')\n",
    "plt.xlabel('TweetAt')\n",
    "plt.ylabel('Frequency')\n",
    "plt.title('Distribution of TweetAt by Sentiment')\n",
    "plt.legend()\n",
    "plt.show()"
   ]
  },
  {
   "cell_type": "markdown",
   "metadata": {},
   "source": [
    "Нужно понимать для какой цели создается модель, если для анализа твитов за этот же период, то мы видим, что в некоторые даты заметно преобладают позитивные твиты, что может быть полезно для модели. Однако если цель - анализ будущих твитов, то полная дата совершенно бесполезный признак так как в новых данных точно не встретятся эти значения. Возможно будет полезным выделить только месяцы из даты и проанализировать их.   \n",
    "Однако в качестве эксперимента попробуем добавить к признакам информацию о времени и посмотрим качество модели."
   ]
  },
  {
   "cell_type": "code",
   "execution_count": 67,
   "metadata": {},
   "outputs": [
    {
     "name": "stdout",
     "output_type": "stream",
     "text": [
      "Accuracy with extended features: 0.8428343631652382\n"
     ]
    }
   ],
   "source": [
    "encoder = OneHotEncoder(handle_unknown='ignore')\n",
    "encoded_time_train = encoder.fit_transform(train['TweetAt'].values.reshape(-1, 1))\n",
    "encoded_time_test = encoder.transform(test['TweetAt'].values.reshape(-1, 1))\n",
    "\n",
    "X_train_ex = sp.hstack([X_train_scaled, encoded_time_train])\n",
    "X_test_ex = sp.hstack([X_test_scaled, encoded_time_test])\n",
    "# Обучение логистической регрессии на расширенной матрице признаков\n",
    "clf = LogisticRegression(max_iter=400, random_state=56)\n",
    "clf.fit(X_train_ex, y_train)\n",
    "\n",
    "y_pred_ex = clf.predict(X_test_ex)\n",
    "\n",
    "# Оценка качества модели\n",
    "accuracy_ex = accuracy_score(y_test, y_pred_ex)\n",
    "print(\"Accuracy with extended features:\", accuracy_ex)"
   ]
  },
  {
   "cell_type": "markdown",
   "metadata": {
    "id": "4IdLBdpQxM-G"
   },
   "source": [
    "**Ответ:** Качество ухудшилось, поэтому признак TweetAt бесполезен.\n",
    "\n"
   ]
  },
  {
   "cell_type": "markdown",
   "metadata": {
    "id": "r2JtRPhNP6qx"
   },
   "source": [
    "Поработайте с признаком Location в обучающей выборке. Сколько уникальных значений?"
   ]
  },
  {
   "cell_type": "code",
   "execution_count": 59,
   "metadata": {
    "id": "xYQZQ1FRNpoe"
   },
   "outputs": [
    {
     "data": {
      "text/plain": [
       "10465"
      ]
     },
     "execution_count": 59,
     "metadata": {},
     "output_type": "execute_result"
    }
   ],
   "source": [
    "df['Location'].nunique()"
   ]
  },
  {
   "cell_type": "markdown",
   "metadata": {
    "id": "6k4JwpRTQISa"
   },
   "source": [
    "Постройте гистограмму топ-10 по популярности местоположений (исключая Unknown)"
   ]
  },
  {
   "cell_type": "code",
   "execution_count": 60,
   "metadata": {
    "id": "J91YkhegJ0mz",
    "scrolled": false
   },
   "outputs": [
    {
     "data": {
      "image/png": "[encoded data removed]",
      "text/plain": [
       "<Figure size 720x432 with 1 Axes>"
      ]
     },
     "metadata": {
      "needs_background": "light"
     },
     "output_type": "display_data"
    }
   ],
   "source": [
    "location_counts = df['Location'].value_counts()\n",
    "\n",
    "# Исключение местоположения 'Unknown'\n",
    "location_counts = location_counts.drop('Unknown', errors='ignore')\n",
    "\n",
    "# Выбор топ-10 местоположений\n",
    "top_10_locations = location_counts.head(10)\n",
    "\n",
    "# Построение гистограммы\n",
    "plt.figure(figsize=(10, 6))\n",
    "top_10_locations.plot(kind='bar')\n",
    "plt.xlabel('Location')\n",
    "plt.ylabel('Frequency')\n",
    "plt.title('Top 10 Locations')\n",
    "plt.xticks(rotation=45, ha='right')\n",
    "plt.show()"
   ]
  },
  {
   "cell_type": "markdown",
   "metadata": {
    "id": "ZOsv3lODTfYB"
   },
   "source": [
    "Видно, что многие местоположения включают в себя более точное название места, чем другие (Например, у некоторых стоит London, UK; а у некоторых просто UK или United Kingdom).\n",
    "\n",
    "Создайте новый признак WiderLocation, который содержит самое широкое местоположение (например, из London, UK должно получиться UK). Сколько уникальных категорий теперь? Постройте аналогичную гистограмму."
   ]
  },
  {
   "cell_type": "code",
   "execution_count": 61,
   "metadata": {
    "id": "mSkow6acOMyD",
    "scrolled": false
   },
   "outputs": [
    {
     "name": "stdout",
     "output_type": "stream",
     "text": [
      "Количество уникальных категорий в новом признаке WiderLocation: 6203\n"
     ]
    },
    {
     "data": {
      "image/png": "[encoded data removed]",
      "text/plain": [
       "<Figure size 720x432 with 1 Axes>"
      ]
     },
     "metadata": {
      "needs_background": "light"
     },
     "output_type": "display_data"
    }
   ],
   "source": [
    "# Функция для извлечения более широкого местоположения\n",
    "def extract_wider_location(location):\n",
    "    if ',' in location:\n",
    "        return location.split(',')[1].strip()\n",
    "    else:\n",
    "        return location.strip()\n",
    "\n",
    "# Создание нового признака WiderLocation\n",
    "df['WiderLocation'] = df['Location'].apply(extract_wider_location)\n",
    "train['WiderLocation'] = train['Location'].apply(extract_wider_location)\n",
    "test['WiderLocation'] = test['Location'].apply(extract_wider_location)\n",
    "\n",
    "# Подсчет количества уникальных категорий в новом признаке\n",
    "unique_wider_locations = df['WiderLocation'].nunique()\n",
    "\n",
    "print(\"Количество уникальных категорий в новом признаке WiderLocation:\", unique_wider_locations)\n",
    "\n",
    "location_counts = df['WiderLocation'].value_counts().drop('Unknown', errors='ignore')\n",
    "\n",
    "# Выбор топ-10 местоположений\n",
    "top_10_locations = location_counts.head(10)\n",
    "\n",
    "# Построение гистограммы\n",
    "plt.figure(figsize=(10, 6))\n",
    "top_10_locations.plot(kind='bar')\n",
    "plt.xlabel('Location')\n",
    "plt.ylabel('Frequency')\n",
    "plt.title('Top 10 Locations')\n",
    "plt.xticks(rotation=45, ha='right')\n",
    "plt.show()"
   ]
  },
  {
   "cell_type": "markdown",
   "metadata": {
    "id": "cgyWrD2eVfff"
   },
   "source": [
    "Закодируйте признак WiderLocation с помощью OHE таким образом, чтобы создались только столбцы для местоположений, которые встречаются более одного раза. Сколько таких значений?\n"
   ]
  },
  {
   "cell_type": "code",
   "execution_count": 62,
   "metadata": {
    "id": "SeJBfBWgPvg_"
   },
   "outputs": [
    {
     "name": "stdout",
     "output_type": "stream",
     "text": [
      "Количество уникальных значений местоположений, встречающихся более одного раза: 1319\n"
     ]
    }
   ],
   "source": [
    "from sklearn.preprocessing import OneHotEncoder\n",
    "\n",
    "# Получение количества вхождений каждого местоположения\n",
    "location_counts = df['WiderLocation'].value_counts()\n",
    "\n",
    "# Выбор только тех местоположений, которые встречаются более одного раза\n",
    "popular_locations = location_counts[location_counts > 1].index.tolist()\n",
    "popular_location_data = df[df['WiderLocation'].isin(popular_locations)]\n",
    "\n",
    "locations_train = train[train['WiderLocation'].isin(popular_locations)]\n",
    "\n",
    "# Кодирование признака WiderLocation с помощью OHE\n",
    "encoder = OneHotEncoder(handle_unknown='ignore')\n",
    "encoded_wider_location = encoder.fit_transform(popular_location_data['WiderLocation'].values.reshape(-1, 1))\n",
    "num_encoded_columns = encoded_wider_location.shape[1]\n",
    "print(\"Количество уникальных значений местоположений, встречающихся более одного раза:\", num_encoded_columns)\n",
    "\n",
    "encoder = OneHotEncoder(handle_unknown='ignore')\n",
    "encoder_locations_train = encoder.fit_transform(locations_train['WiderLocation'].values.reshape(-1, 1))\n",
    "encoder_locations_train = encoder.transform(train['WiderLocation'].values.reshape(-1, 1))\n",
    "encoder_locations_test = encoder.transform(test['WiderLocation'].values.reshape(-1, 1))"
   ]
  },
  {
   "cell_type": "markdown",
   "metadata": {
    "id": "ZyMX5kZuimPK"
   },
   "source": [
    "Добавьте этот признак к матрице отскалированных текстовых признаков, обучите логистическую регрессию, замерьте качество. Как оно изменилось? Оказался ли признак полезным?\n",
    "\n",
    "\n",
    "*Подсказка:* используйте параметр `categories` в энкодере."
   ]
  },
  {
   "cell_type": "code",
   "execution_count": 68,
   "metadata": {
    "id": "EO1jNPeeim7A"
   },
   "outputs": [
    {
     "name": "stdout",
     "output_type": "stream",
     "text": [
      "Accuracy with extended features: 0.8440302969902332\n"
     ]
    }
   ],
   "source": [
    "import scipy.sparse as sp\n",
    "X_train_extended = sp.hstack([X_train_scaled, encoder_locations_train])\n",
    "X_test_extended = sp.hstack([X_test_scaled, encoder_locations_test])\n",
    "# Обучение логистической регрессии на расширенной матрице признаков\n",
    "clf = LogisticRegression(max_iter=400, random_state=56)\n",
    "clf.fit(X_train_extended, y_train)\n",
    "\n",
    "y_pred_extended = clf.predict(X_test_extended)\n",
    "\n",
    "# Оценка качества модели\n",
    "accuracy_extended = accuracy_score(y_test, y_pred_extended)\n",
    "print(\"Accuracy with extended features:\", accuracy_extended)"
   ]
  },
  {
   "cell_type": "markdown",
   "metadata": {
    "id": "7dHsGlDRYUQt"
   },
   "source": [
    "**Ответ:** Качество немного ухудшилось (на 0.0006), поэтому можно обойтись без этого признака, то есть признак WiderLocation бесполезен."
   ]
  },
  {
   "cell_type": "markdown",
   "metadata": {
    "id": "IWn6h4W9eD3S"
   },
   "source": [
    "## Задание 8 Хорошее качество (Бонус 1 балл)"
   ]
  },
  {
   "cell_type": "markdown",
   "metadata": {
    "id": "-HDI0SU6eLgi"
   },
   "source": [
    "Добейтесь accuracy=0.9 на тестовой выборке (можно сменить токенайзер, векторайзер, модель и т.д.)"
   ]
  },
  {
   "cell_type": "markdown",
   "metadata": {},
   "source": [
    "Попробуем изменить модели и посмотрим на их accuracy. "
   ]
  },
  {
   "cell_type": "code",
   "execution_count": 65,
   "metadata": {
    "id": "k3WMbE8edhlW"
   },
   "outputs": [
    {
     "name": "stdout",
     "output_type": "stream",
     "text": [
      "Accuracy: 0.8201116204903328\n"
     ]
    }
   ],
   "source": [
    "import pandas as pd\n",
    "from sklearn.model_selection import train_test_split\n",
    "from sklearn.feature_extraction.text import CountVectorizer\n",
    "import xgboost as xgb\n",
    "from sklearn.metrics import accuracy_score\n",
    "\n",
    "\n",
    "# Разделение данных на обучающий и тестовый наборы\n",
    "X_train, X_test, y_train, y_test = train_test_split(df['OriginalTweet'], df['Sentiment'], test_size=0.3, random_state=0)\n",
    "\n",
    "# Векторизация текстовых данных с помощью TF-IDF\n",
    "vectorizer = CountVectorizer(tokenizer=custom_stem_tokenizer, max_df=0.3)\n",
    "X_train_tfidf = vectorizer.fit_transform(X_train)\n",
    "X_test_tfidf = vectorizer.transform(X_test)\n",
    "\n",
    "# Обучение модели градиентного бустинга\n",
    "model = xgb.XGBClassifier()\n",
    "model.fit(X_train_tfidf, y_train)\n",
    "\n",
    "# Предсказание на тестовом наборе\n",
    "y_pred = model.predict(X_test_tfidf)\n",
    "\n",
    "# Оценка производительности модели\n",
    "accuracy = accuracy_score(y_test, y_pred)\n",
    "print(\"Accuracy:\", accuracy)\n"
   ]
  },
  {
   "cell_type": "code",
   "execution_count": 66,
   "metadata": {},
   "outputs": [
    {
     "name": "stdout",
     "output_type": "stream",
     "text": [
      "Accuracy: 0.8024715965716563\n"
     ]
    }
   ],
   "source": [
    "import pandas as pd\n",
    "from sklearn.model_selection import train_test_split\n",
    "from sklearn.feature_extraction.text import TfidfVectorizer\n",
    "from sklearn.ensemble import RandomForestClassifier\n",
    "from sklearn.metrics import accuracy_score\n",
    "\n",
    "\n",
    "# Разделение данных на обучающий и тестовый наборы\n",
    "X_train, X_test, y_train, y_test = train_test_split(df['OriginalTweet'], df['Sentiment'], test_size=0.3, random_state=0)\n",
    "\n",
    "# Векторизация текстовых данных с помощью TF-IDF\n",
    "vectorizer = TfidfVectorizer(max_features=5000)\n",
    "X_train_tfidf = vectorizer.fit_transform(X_train)\n",
    "X_test_tfidf = vectorizer.transform(X_test)\n",
    "\n",
    "# Обучение модели случайного леса\n",
    "model = RandomForestClassifier()\n",
    "model.fit(X_train_tfidf, y_train)\n",
    "\n",
    "# Предсказание на тестовом наборе\n",
    "y_pred = model.predict(X_test_tfidf)\n",
    "\n",
    "# Оценка производительности модели\n",
    "accuracy = accuracy_score(y_test, y_pred)\n",
    "print(\"Accuracy:\", accuracy)\n"
   ]
  },
  {
   "cell_type": "markdown",
   "metadata": {},
   "source": [
    "Получили качества ниже, чем у логистической регрессии.   "
   ]
  },
  {
   "cell_type": "code",
   "execution_count": 120,
   "metadata": {},
   "outputs": [],
   "source": [
    "def custom_stem_tokenizer2(text):\n",
    "    text = text.lower()   # Приведение текста к нижнему регистру\n",
    "    stemmer = SnowballStemmer('english')\n",
    "    tokenizer = TweetTokenizer()\n",
    "    tokens = tokenizer.tokenize(text)\n",
    "    noise = stopwords.words('english') + list(punctuation)\n",
    "    \n",
    "    # Регулярное выражение для поиска ссылок на сайт t.co\n",
    "    link_pattern = re.compile(r'https://t.co/\\w+')\n",
    "    ll = re.compile(r'@\\w+')\n",
    "    \n",
    "    # Фильтрация токенов\n",
    "    filtered_tokens = []\n",
    "    for token in tokens:\n",
    "        # Удаление стоп-слов, пунктуации, токенов из одного символа и ссылок на сайт t.co\n",
    "        if token not in noise and len(token) > 1 and not link_pattern.match(token) and token != '&amp;' and not ll.match(token):\n",
    "            token = stemmer.stem(token)\n",
    "            filtered_tokens.append(token)\n",
    "    \n",
    "    return filtered_tokens"
   ]
  },
  {
   "cell_type": "code",
   "execution_count": 127,
   "metadata": {},
   "outputs": [
    {
     "name": "stderr",
     "output_type": "stream",
     "text": [
      "C:\\Users\\79061\\anaconda3\\lib\\site-packages\\sklearn\\feature_extraction\\text.py:516: UserWarning: The parameter 'token_pattern' will not be used since 'tokenizer' is not None'\n",
      "  warnings.warn(\n"
     ]
    },
    {
     "name": "stdout",
     "output_type": "stream",
     "text": [
      "0.8703408411401236\n"
     ]
    }
   ],
   "source": [
    "cv_df = CountVectorizer(tokenizer=custom_stem_tokenizer2,\n",
    "                        max_df=0.3\n",
    "                        ).fit(\n",
    "                            train['OriginalTweet']\n",
    "                            )\n",
    "X_count = cv_df.transform(train['OriginalTweet'])\n",
    "\n",
    "X_count_test = cv_df.transform(test['OriginalTweet'])\n",
    "\n",
    "clf = LogisticRegression(max_iter=400, random_state=0)\n",
    "clf.fit(X_count, y_train)\n",
    "pred = clf.predict(X_count_test)\n",
    "print(accuracy_score(y_test, pred))"
   ]
  },
  {
   "cell_type": "markdown",
   "metadata": {},
   "source": [
    "Таким образом, улучшив токенайзер, наилучший результат получился при данной модели."
   ]
  }
 ],
 "metadata": {
  "colab": {
   "provenance": [],
   "toc_visible": true
  },
  "kernelspec": {
   "display_name": "Python 3 (ipykernel)",
   "language": "python",
   "name": "python3"
  },
  "language_info": {
   "codemirror_mode": {
    "name": "ipython",
    "version": 3
   },
   "file_extension": ".py",
   "mimetype": "text/x-python",
   "name": "python",
   "nbconvert_exporter": "python",
   "pygments_lexer": "ipython3",
   "version": "3.9.12"
  }
 },
 "nbformat": 4,
 "nbformat_minor": 1
}
